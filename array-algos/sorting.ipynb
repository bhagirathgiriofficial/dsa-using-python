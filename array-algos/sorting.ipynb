{
 "cells": [
  {
   "cell_type": "code",
   "execution_count": null,
   "id": "805557b4",
   "metadata": {},
   "outputs": [
    {
     "name": "stdout",
     "output_type": "stream",
     "text": [
      "[10, 7, 6, 5, 4, 3, 2, 1]\n"
     ]
    }
   ],
   "source": [
    "def bubbleSort(arr):\n",
    "    n = len(arr)\n",
    "    for i in range(n):   \n",
    "        isSwap = False     \n",
    "        for j in range(n-i-1):\n",
    "            if arr[j] < arr[j+1]:\n",
    "                isSwap = True\n",
    "                arr[j], arr[j+1] = arr[j+1] , arr[j]\n",
    "        \n",
    "        if isSwap == False: \n",
    "            return arr\n",
    "            \n",
    "    return arr\n",
    "\n",
    "numbers = [3,1,4,6,2,10,5,7]\n",
    "new_arr = bubbleSort(numbers)\n",
    "print(new_arr)"
   ]
  },
  {
   "cell_type": "markdown",
   "id": "fc15ec09",
   "metadata": {},
   "source": []
  },
  {
   "cell_type": "code",
   "execution_count": null,
   "id": "417a6b64",
   "metadata": {},
   "outputs": [],
   "source": []
  },
  {
   "cell_type": "code",
   "execution_count": 3,
   "id": "f55c1cc7",
   "metadata": {},
   "outputs": [
    {
     "name": "stdout",
     "output_type": "stream",
     "text": [
      "[1, 2, 3, 4, 10, 12]\n"
     ]
    }
   ],
   "source": [
    "def selectionSort(arr):\n",
    "    n = len(arr)\n",
    "    for i in range(n-1):\n",
    "        si = i\n",
    "        for j in range(i+1,n):\n",
    "            if arr[si] > arr[j]:\n",
    "                si = j\n",
    "\n",
    "       # swap\n",
    "        arr[si], arr[i] = arr[i] , arr[si] \n",
    "    \n",
    "    return arr\n",
    "    \n",
    "arr = [4,2,1,10,12,3]\n",
    "print(selectionSort(arr))"
   ]
  },
  {
   "cell_type": "code",
   "execution_count": 4,
   "id": "a1c9d4ab",
   "metadata": {},
   "outputs": [
    {
     "name": "stdout",
     "output_type": "stream",
     "text": [
      "[1, 4, 5, 12, 20, 32, 54]\n"
     ]
    }
   ],
   "source": [
    "def insertionSort(arr):\n",
    "    for i in range(1,len(arr)):\n",
    "        current = arr[i]\n",
    "        prev = i-1\n",
    "        while prev>=0 and arr[prev] > current:\n",
    "            arr[prev+1] = arr[prev]\n",
    "            prev-=1\n",
    "        \n",
    "        arr[prev+1] = current\n",
    "    \n",
    "    return arr\n",
    "\n",
    "    \n",
    "\n",
    "numbs = [4,1,5,20,54,12,32]\n",
    "print(insertionSort(numbs))"
   ]
  },
  {
   "cell_type": "code",
   "execution_count": null,
   "id": "aa0cae28",
   "metadata": {},
   "outputs": [],
   "source": []
  }
 ],
 "metadata": {
  "kernelspec": {
   "display_name": "base",
   "language": "python",
   "name": "python3"
  },
  "language_info": {
   "codemirror_mode": {
    "name": "ipython",
    "version": 3
   },
   "file_extension": ".py",
   "mimetype": "text/x-python",
   "name": "python",
   "nbconvert_exporter": "python",
   "pygments_lexer": "ipython3",
   "version": "3.12.7"
  }
 },
 "nbformat": 4,
 "nbformat_minor": 5
}
