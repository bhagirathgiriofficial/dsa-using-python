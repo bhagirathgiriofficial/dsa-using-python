{
 "cells": [
  {
   "cell_type": "code",
   "execution_count": null,
   "id": "365eb539",
   "metadata": {},
   "outputs": [
    {
     "name": "stdout",
     "output_type": "stream",
     "text": [
      "[1, 2, 3, 4, 5, 8, 8, 10, 12, 15, 18, 20]\n"
     ]
    }
   ],
   "source": [
    "def twoWayMerge(a1,a2):\n",
    "    final = []\n",
    "    len1 = len(a1)\n",
    "    len2 = len(a2)\n",
    "    i = 0 # this is for a1\n",
    "    j = 0 # this is for a2\n",
    "    while i<len1 and j<len2:\n",
    "        if a1[i] < a2[j]:\n",
    "            final.append(a1[i])\n",
    "            i+=1\n",
    "        elif a1[i] == a2[j]:\n",
    "            final.append(a1[i])\n",
    "            final.append(a2[j])\n",
    "            j+=1\n",
    "            i+=1\n",
    "        elif a1[i] > a2[j]:\n",
    "            final.append(a2[j])\n",
    "            j+=1\n",
    "\n",
    "    while i<len1:\n",
    "        final.append(a1[i])\n",
    "        i+=1\n",
    "    while j<len2:\n",
    "        final.append(a2[j])\n",
    "        j+=1    \n",
    "\n",
    "    return final\n",
    "\n",
    "\n",
    "a1 = [2,4,8,10,15]\n",
    "a2 = [1,3,5,8,12,18,20]\n",
    "\n",
    "print(twoWayMerge(a1,a2))"
   ]
  },
  {
   "cell_type": "code",
   "execution_count": 3,
   "id": "4936c312",
   "metadata": {},
   "outputs": [
    {
     "name": "stdout",
     "output_type": "stream",
     "text": [
      "[1, 2, 3, 4, 5]\n"
     ]
    }
   ],
   "source": [
    "def doSomething(numbers):\n",
    "    numbers.append(5)\n",
    "\n",
    "\n",
    "arr = [1,2,3,4]\n",
    "doSomething(arr)\n",
    "print(arr)"
   ]
  },
  {
   "cell_type": "code",
   "execution_count": null,
   "id": "4e6f3c8b",
   "metadata": {},
   "outputs": [
    {
     "name": "stdout",
     "output_type": "stream",
     "text": [
      "[1, 2, 3, 4, 10, 12]\n"
     ]
    }
   ],
   "source": [
    "def merge(arr,start,mid,end):\n",
    "    temp = []\n",
    "    a1 = arr[start:mid+1] # 0:2 \n",
    "    a2 = arr[mid+1:] # 2:n-1\n",
    "    i = 0\n",
    "    j = 0\n",
    "    len1 = len(a1)\n",
    "    len2 = len(a2)\n",
    "    while i<len1 and j<len2:\n",
    "        if a1[i] < a2[j]:\n",
    "            temp.append(a1[i])\n",
    "            i+=1\n",
    "        elif a1[i] == a2[j]:\n",
    "            temp.append(a1[i])\n",
    "            temp.append(a2[j])\n",
    "            i+=1\n",
    "            j+=1\n",
    "        elif a1[i] > a2[j]:\n",
    "            temp.append(a2[j])\n",
    "            j+=1\n",
    "    while i<len1:\n",
    "        temp.append(a1[i])\n",
    "        i+=1\n",
    "    while j<len2:\n",
    "        temp.append(a2[j])\n",
    "        j+=1\n",
    "    \n",
    "    for idx in range(len(temp)):\n",
    "        arr[start+idx] = temp[idx]\n",
    "    \n",
    "\n",
    "def mergeSort(arr,start,end):\n",
    "    if start < end:\n",
    "        mid = int((start+end)/2)\n",
    "        mergeSort(arr,start,mid)\n",
    "        mergeSort(arr,mid+1,end)\n",
    "        merge(arr,start,mid,end)\n",
    "    \n",
    "\n",
    "arr = [2,4,1,10,12,3]\n",
    "mergeSort(arr,0, len(arr)-1)\n",
    "print(arr)\n",
    "        "
   ]
  },
  {
   "cell_type": "code",
   "execution_count": null,
   "id": "7412bb1d",
   "metadata": {},
   "outputs": [],
   "source": []
  }
 ],
 "metadata": {
  "kernelspec": {
   "display_name": "base",
   "language": "python",
   "name": "python3"
  },
  "language_info": {
   "codemirror_mode": {
    "name": "ipython",
    "version": 3
   },
   "file_extension": ".py",
   "mimetype": "text/x-python",
   "name": "python",
   "nbconvert_exporter": "python",
   "pygments_lexer": "ipython3",
   "version": "3.12.7"
  }
 },
 "nbformat": 4,
 "nbformat_minor": 5
}
