{
 "cells": [
  {
   "cell_type": "code",
   "execution_count": null,
   "id": "73aad8b5",
   "metadata": {},
   "outputs": [
    {
     "name": "stdout",
     "output_type": "stream",
     "text": [
      "[6, 5, 4, 3, 2, 1]\n"
     ]
    }
   ],
   "source": [
    "def part(arr,s,e):\n",
    "    pivot = arr[e]\n",
    "    i = s-1\n",
    "    for j in range(s,e):\n",
    "        if arr[j] >= pivot:\n",
    "            i+=1\n",
    "            arr[i], arr[j] = arr[j], arr[i]\n",
    "    i+=1  \n",
    "    arr[i], arr[e] = arr[e], arr[i]\n",
    "    return i     \n",
    "\n",
    "\n",
    "def quickSort(arr,s,e):\n",
    "    if(s<e):\n",
    "        pId = part(arr,s,e)\n",
    "        quickSort(arr,s,pId-1) #LHS\n",
    "        quickSort(arr,pId+1,e) #RHS\n",
    "    \n",
    "arr = [5,2,1,4,6,3]\n",
    "quickSort(arr,0,len(arr)-1)\n",
    "print(arr)\n"
   ]
  },
  {
   "cell_type": "code",
   "execution_count": null,
   "id": "cccd97c0",
   "metadata": {},
   "outputs": [],
   "source": []
  }
 ],
 "metadata": {
  "kernelspec": {
   "display_name": "base",
   "language": "python",
   "name": "python3"
  },
  "language_info": {
   "codemirror_mode": {
    "name": "ipython",
    "version": 3
   },
   "file_extension": ".py",
   "mimetype": "text/x-python",
   "name": "python",
   "nbconvert_exporter": "python",
   "pygments_lexer": "ipython3",
   "version": "3.12.7"
  }
 },
 "nbformat": 4,
 "nbformat_minor": 5
}
