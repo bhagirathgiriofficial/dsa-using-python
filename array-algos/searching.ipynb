{
 "cells": [
  {
   "cell_type": "code",
   "execution_count": 4,
   "id": "d9f6c500",
   "metadata": {},
   "outputs": [
    {
     "data": {
      "text/plain": [
       "6"
      ]
     },
     "execution_count": 4,
     "metadata": {},
     "output_type": "execute_result"
    }
   ],
   "source": [
    "def linearSearch(arr,find):\n",
    "    for i in range(len(arr)):\n",
    "        if(arr[i] == find):\n",
    "            return i\n",
    "    return -1   \n",
    "\n",
    "numbers = [3,2,6,1,30,60,12]\n",
    "target = 12\n",
    "linearSearch(numbers,target)\n"
   ]
  },
  {
   "cell_type": "code",
   "execution_count": 10,
   "id": "51880720",
   "metadata": {},
   "outputs": [
    {
     "name": "stdout",
     "output_type": "stream",
     "text": [
      "-1\n"
     ]
    }
   ],
   "source": [
    "def binarySearch(arr,target):\n",
    "    start = 0\n",
    "    end = len(arr)-1\n",
    "    while start <= end:\n",
    "        mid = int((start+end)/2)\n",
    "        if arr[mid] == target:\n",
    "            return mid\n",
    "        elif arr[mid] > target:\n",
    "            end = mid-1\n",
    "        elif arr[mid] < target:\n",
    "            start = mid+1\n",
    "    \n",
    "    return -1\n",
    "\n",
    "arr = [10,15,20,28,39,40,45]\n",
    "target = 29\n",
    "\n",
    "print(binarySearch(arr,target))\n"
   ]
  },
  {
   "cell_type": "code",
   "execution_count": null,
   "id": "36fc8e5f",
   "metadata": {},
   "outputs": [
    {
     "name": "stdout",
     "output_type": "stream",
     "text": [
      "4.0\n"
     ]
    }
   ],
   "source": [
    "def missingNum(arr):\n",
    "    n = len(arr)+1\n",
    "    oSum = (n*(n+1))/2\n",
    "    sum = 0\n",
    "    for i in range(len(arr)):\n",
    "        sum = sum + arr[i]\n",
    "    \n",
    "    return oSum - sum\n",
    "\n",
    "arr = [1,2,3,5,6,7,8]\n",
    "print(missingNum(arr))\n"
   ]
  },
  {
   "cell_type": "code",
   "execution_count": null,
   "id": "19007404",
   "metadata": {},
   "outputs": [],
   "source": []
  }
 ],
 "metadata": {
  "kernelspec": {
   "display_name": "base",
   "language": "python",
   "name": "python3"
  },
  "language_info": {
   "codemirror_mode": {
    "name": "ipython",
    "version": 3
   },
   "file_extension": ".py",
   "mimetype": "text/x-python",
   "name": "python",
   "nbconvert_exporter": "python",
   "pygments_lexer": "ipython3",
   "version": "3.12.7"
  }
 },
 "nbformat": 4,
 "nbformat_minor": 5
}
