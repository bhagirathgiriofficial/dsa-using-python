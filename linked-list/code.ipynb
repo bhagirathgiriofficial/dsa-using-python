{
 "cells": [
  {
   "cell_type": "code",
   "execution_count": 26,
   "id": "9a7b791e",
   "metadata": {},
   "outputs": [
    {
     "name": "stdout",
     "output_type": "stream",
     "text": [
      "20->10->5->100->200->None\n"
     ]
    }
   ],
   "source": [
    "class Node:\n",
    "    def __init__(self,data):\n",
    "        self.data = data\n",
    "        self.next = None\n",
    "\n",
    "class LinkedList:\n",
    "    def __init__(self):\n",
    "        self.head = self.tail = None\n",
    "\n",
    "    def isEmpty(self):\n",
    "        return True if self.head is None else False\n",
    "\n",
    "    def addAtBegin(self,data):\n",
    "        new_node = Node(data)\n",
    "        if self.isEmpty():\n",
    "            self.head = self.tail = new_node\n",
    "        else:\n",
    "            new_node.next = self.head \n",
    "            self.head = new_node\n",
    "            # there exists a Node and we need to add new\n",
    "\n",
    "    def addAtEnd(self,data):\n",
    "        new_node = Node(data)\n",
    "        if self.isEmpty():\n",
    "            self.head = self.tail = new_node\n",
    "        else:\n",
    "            self.tail.next = new_node\n",
    "            self.tail = new_node\n",
    "\n",
    "    def display(self):\n",
    "        if self.isEmpty():\n",
    "            print(\"List is empty\")\n",
    "        else:\n",
    "            temp = self.head\n",
    "            while temp: \n",
    "                print(temp.data, end=\"->\")\n",
    "                temp = temp.next\n",
    "            print(\"None\")\n",
    "\n",
    "if __name__ == \"__main__\":\n",
    "    ll = LinkedList()\n",
    "    ll.addAtBegin(5)\n",
    "    ll.addAtBegin(10)\n",
    "    ll.addAtBegin(20)\n",
    "    ll.addAtEnd(100)\n",
    "    ll.addAtEnd(200)\n",
    "    ll.display()"
   ]
  },
  {
   "cell_type": "code",
   "execution_count": null,
   "id": "f647ac9f",
   "metadata": {},
   "outputs": [],
   "source": []
  }
 ],
 "metadata": {
  "kernelspec": {
   "display_name": "base",
   "language": "python",
   "name": "python3"
  },
  "language_info": {
   "codemirror_mode": {
    "name": "ipython",
    "version": 3
   },
   "file_extension": ".py",
   "mimetype": "text/x-python",
   "name": "python",
   "nbconvert_exporter": "python",
   "pygments_lexer": "ipython3",
   "version": "3.12.7"
  }
 },
 "nbformat": 4,
 "nbformat_minor": 5
}
